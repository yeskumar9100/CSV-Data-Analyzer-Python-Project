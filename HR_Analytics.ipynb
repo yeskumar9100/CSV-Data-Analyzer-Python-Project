{
  "nbformat": 4,
  "nbformat_minor": 0,
  "metadata": {
    "colab": {
      "provenance": []
    },
    "kernelspec": {
      "name": "python3",
      "display_name": "Python 3"
    },
    "language_info": {
      "name": "python"
    }
  },
  "cells": [
    {
      "cell_type": "markdown",
      "metadata": {
        "id": "-X5RArELulSC"
      },
      "source": [
        "# Project Information\n",
        "\n",
        "It is a very basic analytics project for beginners to understand how to explore data to get some insights using python\n",
        "\n",
        "- Library used - Pandas\n",
        "\n",
        "- Data - https://raw.githubusercontent.com/arora123/Data/master/emp-data.csv\n",
        "\n",
        "- Data Description - Name, Gender, Department, Salary, Location & Ratings of 1015 employees [All column names are self explanatory]\n",
        "\n",
        "- Objectives -\n",
        "1. How many Males/Females are there in the entire organization?\n",
        "2. How many Males/Females are there in the each department or for each location?\n",
        "3. For which department is the average Pay highest?\n",
        "4. For which location is the average Pay highest?\n",
        "5. What percentage of employees received good & very good rating? What about poor & very poor rating? and average rating?\n",
        "6. Compute gender pay gap for each department. Interpret\n",
        "7. Compute gender pay gap for each location. Interpret\n",
        "\n"
      ]
    },
    {
      "cell_type": "markdown",
      "metadata": {
        "id": "v4b0fB0XFU9N"
      },
      "source": [
        "# Additional Exercises:\n",
        "\n",
        "1. Use visualization to understand & explore data\n",
        "2. Use statistical methods to explore the relationship/association between the variables\n",
        "- gender & location\n",
        "- gender & department\n",
        "- gender & rating\n",
        "- gender & salary\n",
        "- location & salary\n",
        "- department & salary"
      ]
    }
  ]
}